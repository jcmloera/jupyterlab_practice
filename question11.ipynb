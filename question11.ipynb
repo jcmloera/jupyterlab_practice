{
 "cells": [
  {
   "cell_type": "markdown",
   "id": "0fbef772-2c90-4111-b4b3-454c08d332c9",
   "metadata": {},
   "source": [
    "# Juan Carlos Martinez Loera\n",
    "Notebook for assignment 7\n"
   ]
  },
  {
   "cell_type": "code",
   "execution_count": 1,
   "id": "00394d79-2a0a-4e81-9e22-a3f7351d7f8b",
   "metadata": {},
   "outputs": [
    {
     "name": "stdout",
     "output_type": "stream",
     "text": [
      "5.0\n"
     ]
    }
   ],
   "source": [
    "def compute_mean(values):\n",
    "    mean_value = sum(values) / len(values)\n",
    "    print(mean_value)\n",
    "\n",
    "compute_mean([2, 4, 6, 8])"
   ]
  },
  {
   "cell_type": "markdown",
   "id": "1dedbf2d-07d2-45f0-a01d-a8dc3decad43",
   "metadata": {},
   "source": [
    "This function computes the mean (average) of a list of numbers. The mean is calculated as follows:\n",
    "\n",
    "The mean \\( \\bar{x} \\) is given by the formula:\n",
    "\n",
    "$$ \\bar{x} = \\frac{1}{N} \\sum_{i=1}^{N} x_i $$\n",
    "\n"
   ]
  }
 ],
 "metadata": {
  "kernelspec": {
   "display_name": "Python 3 (ipykernel)",
   "language": "python",
   "name": "python3"
  },
  "language_info": {
   "codemirror_mode": {
    "name": "ipython",
    "version": 3
   },
   "file_extension": ".py",
   "mimetype": "text/x-python",
   "name": "python",
   "nbconvert_exporter": "python",
   "pygments_lexer": "ipython3",
   "version": "3.12.3"
  }
 },
 "nbformat": 4,
 "nbformat_minor": 5
}
